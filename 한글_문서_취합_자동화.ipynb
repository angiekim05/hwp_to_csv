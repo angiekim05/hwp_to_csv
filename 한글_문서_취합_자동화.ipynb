{
  "nbformat": 4,
  "nbformat_minor": 0,
  "metadata": {
    "colab": {
      "provenance": [],
      "authorship_tag": "ABX9TyN/GuIXhyjRXWV7pOB25et5",
      "include_colab_link": true
    },
    "kernelspec": {
      "name": "python3",
      "display_name": "Python 3"
    },
    "language_info": {
      "name": "python"
    }
  },
  "cells": [
    {
      "cell_type": "markdown",
      "metadata": {
        "id": "view-in-github",
        "colab_type": "text"
      },
      "source": [
        "<a href=\"https://colab.research.google.com/github/angiekim05/hwp_to_csv/blob/main/%ED%95%9C%EA%B8%80_%EB%AC%B8%EC%84%9C_%EC%B7%A8%ED%95%A9_%EC%9E%90%EB%8F%99%ED%99%94.ipynb\" target=\"_parent\"><img src=\"https://colab.research.google.com/assets/colab-badge.svg\" alt=\"Open In Colab\"/></a>"
      ]
    },
    {
      "cell_type": "code",
      "source": [
        "!pip install olefile\n",
        "import olefile\n",
        "import os\n",
        "import pandas as pd"
      ],
      "metadata": {
        "colab": {
          "base_uri": "https://localhost:8080/"
        },
        "id": "JYccpTI-HbSW",
        "outputId": "9a43e37d-9e88-4219-f50f-e75aa13983a1"
      },
      "execution_count": 2,
      "outputs": [
        {
          "output_type": "stream",
          "name": "stdout",
          "text": [
            "Looking in indexes: https://pypi.org/simple, https://us-python.pkg.dev/colab-wheels/public/simple/\n",
            "Collecting olefile\n",
            "  Downloading olefile-0.46.zip (112 kB)\n",
            "\u001b[2K     \u001b[90m━━━━━━━━━━━━━━━━━━━━━━━━━━━━━━━━━━━━━━━\u001b[0m \u001b[32m112.2/112.2 kB\u001b[0m \u001b[31m2.5 MB/s\u001b[0m eta \u001b[36m0:00:00\u001b[0m\n",
            "\u001b[?25h  Preparing metadata (setup.py) ... \u001b[?25l\u001b[?25hdone\n",
            "Building wheels for collected packages: olefile\n",
            "  Building wheel for olefile (setup.py) ... \u001b[?25l\u001b[?25hdone\n",
            "  Created wheel for olefile: filename=olefile-0.46-py2.py3-none-any.whl size=35432 sha256=c091562416849ac8f550194c465e8dfbb1f6b49c49256b86deef19dd4d0110c7\n",
            "  Stored in directory: /root/.cache/pip/wheels/02/39/c0/9eb1f7a42b4b38f6f333b6314d4ed11c46f12a0f7b78194f0d\n",
            "Successfully built olefile\n",
            "Installing collected packages: olefile\n",
            "Successfully installed olefile-0.46\n"
          ]
        }
      ]
    },
    {
      "cell_type": "code",
      "source": [
        "path = \"/content/학술대회참가신청서.hwp\"\n",
        "f = olefile.OleFileIO(path)\n",
        "encoded_txt = f.openstream(\"PrvText\").read()\n",
        "text = encoded_txt.decode(\"utf-16\",errors=\"ignore\")\n",
        "print(text)"
      ],
      "metadata": {
        "colab": {
          "base_uri": "https://localhost:8080/"
        },
        "id": "g5QuqRdlYa9r",
        "outputId": "3f2513fe-8854-4d8c-e0bf-cce5a1d34190"
      },
      "execution_count": 3,
      "outputs": [
        {
          "output_type": "stream",
          "name": "stdout",
          "text": [
            "\r\n",
            "\r\n",
            "ㅇㅇㅇ학회\r\n",
            "학술대회 참가신청서\r\n",
            "\r\n",
            "<성  명><홍길동>\r\n",
            "<소 속 (학생: 학교)><ㅇㅇ대학교><직 위 (학생: 학위과정)><석사과정>\r\n",
            "<연 락 처><(휴대폰)><010-0000-0000><(이메일) ><sample@gmail.com>\r\n",
            "<참가형태><□ 학술대회><식사여부 (필수)><0월0일><□ 만찬><□ Workshop><0월0일><□ 조식><□ 학술대회 + Workshop><□ 중식>\r\n",
            "<참가구분><□ 일반참가자><□ 학생참가자>\r\n",
            "<회원여부><□ 평생회원   ><□ 정회원><□ 준회원><□ 비회원>\r\n",
            "<입금정보><입금자><홍길동><입금액><0만원>\r\n",
            "<개인정보 제공 및 활용 동의 ><상기 개인정보를 ooo학회 학술대회 관련 참가신청 관리와 운영 업무에 활용하는 것에 동의합니다.  □ 동의함                       >\r\n",
            "<보안서약서><상기 본인은 ooo학회 학술대회의 내용을  동의없이 녹음 및 녹화하지 않을 것임을 서약합니다.  □ 서약함>\r\n",
            "<   상기 본인은 ㅇㅇㅇ학회 학술대회에 참가 신청합니다.  20  .        .        .                             신청인:     홍 길 동     (서명생략)  ㅇㅇㅇ학회 귀중>\r\n",
            "\n"
          ]
        }
      ]
    },
    {
      "cell_type": "code",
      "source": [
        "class HWPfile():\n",
        "  def __init__(self,path):\n",
        "    self.table = self.hwp_table(path)\n",
        "    self.datas = self.text2data(self.table)\n",
        "    \n",
        "  def print_datas(self):\n",
        "    print(*self.table[:-1],sep=\"\\n\")\n",
        "\n",
        "  def hwp_table(self,path):\n",
        "    f = olefile.OleFileIO(path)\n",
        "    encoded_txt = f.openstream(\"PrvText\").read()\n",
        "    text = encoded_txt.decode(\"utf-16\",errors=\"ignore\")\n",
        "    \n",
        "    text = text.replace(\" \",\"\").replace(\"><\",\"\\t\").replace(\">\",\"\") \n",
        "    text = text.split(\"\\r\\n\")\n",
        "    table = [t.replace(\"<\",\"\").split(\"\\t\") for t in text if len(t) > 0 and t[0] == \"<\"]\n",
        "    table[7]=table[7][1][-4:] # 동의함 부분만 추출\n",
        "    table[8]=table[8][1][-4:] # 서약함 부분만 추출\n",
        "    return table\n",
        "\n",
        "  def text2data(self,table):\n",
        "    datas = []\n",
        "    datas.append(table[0][1])\n",
        "    datas.append(table[1][1])\n",
        "    datas.append(table[1][3])\n",
        "    datas.append(table[2][2])  \n",
        "    datas.append(table[2][4])\n",
        "\n",
        "    datas += [\"\"]+[False]*3+[\"\"]*2\n",
        "\n",
        "    for param in table[3]:\n",
        "      if param[0] != \"□\":\n",
        "\n",
        "        # 참가형태는 3가지 중 1개        \n",
        "        if \"학술대회+Workshop\" in param:\n",
        "          datas[5]=\"학술대회 + Workshop\"\n",
        "        elif \"학술대회\" in param:\n",
        "          datas[5]=\"학술대회\"\n",
        "        elif \"Workshop\" in param:\n",
        "          datas[5]=\"Workshop\"\n",
        "        \n",
        "        # 식사는 중복 가능\n",
        "        elif \"만찬\" in param:\n",
        "          datas[6]=True\n",
        "        elif \"조식\" in param:\n",
        "          datas[7]=True\n",
        "        elif \"중식\" in param:\n",
        "          datas[8]=True\n",
        "\n",
        "    for i,name in zip([1,2],[\"일반참가자\",\"학생참가자\"]):\n",
        "      if table[4][i][0] != \"□\":\n",
        "        datas[9]=name\n",
        "        break\n",
        "        \n",
        "    for i,name in zip([1,2,3,4],[\"평생회원\",\"정회원\",\"준회원\",\"비회원\"]):\n",
        "      if table[5][i][0] != \"□\":\n",
        "        datas[10]=name\n",
        "        break\n",
        "        \n",
        "    datas.append(table[6][2])\n",
        "\n",
        "    money = table[6][4]\n",
        "    if \"만\" in money:\n",
        "      money = money[:-2]\n",
        "    else:\n",
        "      money = int(money[:-1].replace(\",\",\"\"))//10000\n",
        "    datas.append(str(money)+\"만원\")\n",
        "\n",
        "    if table[7][0] != \"□\":\n",
        "      datas.append(\"동의\")\n",
        "    else:\n",
        "      datas.append(\"동의안함\")\n",
        "    if table[7][0] != \"□\":\n",
        "      datas.append(\"서약함\")\n",
        "    else:\n",
        "      datas.append(\"서약안함\")\n",
        "    return datas"
      ],
      "metadata": {
        "id": "-8TkSP85cYWo"
      },
      "execution_count": 10,
      "outputs": []
    },
    {
      "cell_type": "code",
      "source": [
        "# 파일 리스트\n",
        "file_list = [name for name in os.listdir('.') if name[-3:]==\"hwp\"]\n",
        "file_list\n",
        "\n",
        "# 문서 내 데이터\n",
        "datas = []\n",
        "for path in file_list:\n",
        "  data = HWPfile(path)\n",
        "  datas.append(data.datas)\n",
        "  data.print_datas()"
      ],
      "metadata": {
        "colab": {
          "base_uri": "https://localhost:8080/"
        },
        "id": "ergBW5DivswQ",
        "outputId": "3e334594-6595-4c1c-a831-a11033c8d721"
      },
      "execution_count": 11,
      "outputs": [
        {
          "output_type": "stream",
          "name": "stdout",
          "text": [
            "['성명', '홍길동']\n",
            "['소속(학생:학교)', 'ㅇㅇ대학교', '직위(학생:학위과정)', '석사과정']\n",
            "['연락처', '(휴대폰)', '010-0000-0000', '(이메일)', 'sample@gmail.com']\n",
            "['참가형태', '□학술대회', '식사여부(필수)', '0월0일', '□만찬', '□Workshop', '0월0일', '□조식', '□학술대회+Workshop', '□중식']\n",
            "['참가구분', '□일반참가자', '□학생참가자']\n",
            "['회원여부', '□평생회원', '□정회원', '□준회원', '□비회원']\n",
            "['입금정보', '입금자', '홍길동', '입금액', '0만원']\n",
            "□동의함\n",
            "□서약함\n"
          ]
        }
      ]
    },
    {
      "cell_type": "code",
      "source": [
        "# dataframe에 담아 csv로 저장\n",
        "cols = ['성명', '소속', '직위', '휴대폰', '이메일', '참가형태', '만찬', '조식', '중식', '참가구분', '회원여부', '입금자', '입금액',\"동의\",\"서약\"]\n",
        "df = pd.DataFrame(datas, columns=cols)\n",
        "df"
      ],
      "metadata": {
        "colab": {
          "base_uri": "https://localhost:8080/",
          "height": 81
        },
        "id": "iA2n7dc0whkj",
        "outputId": "93ce762d-a4b6-4994-c7f0-9495071f4c3e"
      },
      "execution_count": 12,
      "outputs": [
        {
          "output_type": "execute_result",
          "data": {
            "text/plain": [
              "    성명     소속    직위            휴대폰               이메일 참가형태     만찬     조식  \\\n",
              "0  홍길동  ㅇㅇ대학교  석사과정  010-0000-0000  sample@gmail.com       False  False   \n",
              "\n",
              "      중식 참가구분 회원여부  입금자  입금액    동의    서약  \n",
              "0  False            홍길동  0만원  동의안함  서약안함  "
            ],
            "text/html": [
              "\n",
              "  <div id=\"df-439c9abc-24e0-4a74-9652-d7e5284ff332\">\n",
              "    <div class=\"colab-df-container\">\n",
              "      <div>\n",
              "<style scoped>\n",
              "    .dataframe tbody tr th:only-of-type {\n",
              "        vertical-align: middle;\n",
              "    }\n",
              "\n",
              "    .dataframe tbody tr th {\n",
              "        vertical-align: top;\n",
              "    }\n",
              "\n",
              "    .dataframe thead th {\n",
              "        text-align: right;\n",
              "    }\n",
              "</style>\n",
              "<table border=\"1\" class=\"dataframe\">\n",
              "  <thead>\n",
              "    <tr style=\"text-align: right;\">\n",
              "      <th></th>\n",
              "      <th>성명</th>\n",
              "      <th>소속</th>\n",
              "      <th>직위</th>\n",
              "      <th>휴대폰</th>\n",
              "      <th>이메일</th>\n",
              "      <th>참가형태</th>\n",
              "      <th>만찬</th>\n",
              "      <th>조식</th>\n",
              "      <th>중식</th>\n",
              "      <th>참가구분</th>\n",
              "      <th>회원여부</th>\n",
              "      <th>입금자</th>\n",
              "      <th>입금액</th>\n",
              "      <th>동의</th>\n",
              "      <th>서약</th>\n",
              "    </tr>\n",
              "  </thead>\n",
              "  <tbody>\n",
              "    <tr>\n",
              "      <th>0</th>\n",
              "      <td>홍길동</td>\n",
              "      <td>ㅇㅇ대학교</td>\n",
              "      <td>석사과정</td>\n",
              "      <td>010-0000-0000</td>\n",
              "      <td>sample@gmail.com</td>\n",
              "      <td></td>\n",
              "      <td>False</td>\n",
              "      <td>False</td>\n",
              "      <td>False</td>\n",
              "      <td></td>\n",
              "      <td></td>\n",
              "      <td>홍길동</td>\n",
              "      <td>0만원</td>\n",
              "      <td>동의안함</td>\n",
              "      <td>서약안함</td>\n",
              "    </tr>\n",
              "  </tbody>\n",
              "</table>\n",
              "</div>\n",
              "      <button class=\"colab-df-convert\" onclick=\"convertToInteractive('df-439c9abc-24e0-4a74-9652-d7e5284ff332')\"\n",
              "              title=\"Convert this dataframe to an interactive table.\"\n",
              "              style=\"display:none;\">\n",
              "        \n",
              "  <svg xmlns=\"http://www.w3.org/2000/svg\" height=\"24px\"viewBox=\"0 0 24 24\"\n",
              "       width=\"24px\">\n",
              "    <path d=\"M0 0h24v24H0V0z\" fill=\"none\"/>\n",
              "    <path d=\"M18.56 5.44l.94 2.06.94-2.06 2.06-.94-2.06-.94-.94-2.06-.94 2.06-2.06.94zm-11 1L8.5 8.5l.94-2.06 2.06-.94-2.06-.94L8.5 2.5l-.94 2.06-2.06.94zm10 10l.94 2.06.94-2.06 2.06-.94-2.06-.94-.94-2.06-.94 2.06-2.06.94z\"/><path d=\"M17.41 7.96l-1.37-1.37c-.4-.4-.92-.59-1.43-.59-.52 0-1.04.2-1.43.59L10.3 9.45l-7.72 7.72c-.78.78-.78 2.05 0 2.83L4 21.41c.39.39.9.59 1.41.59.51 0 1.02-.2 1.41-.59l7.78-7.78 2.81-2.81c.8-.78.8-2.07 0-2.86zM5.41 20L4 18.59l7.72-7.72 1.47 1.35L5.41 20z\"/>\n",
              "  </svg>\n",
              "      </button>\n",
              "      \n",
              "  <style>\n",
              "    .colab-df-container {\n",
              "      display:flex;\n",
              "      flex-wrap:wrap;\n",
              "      gap: 12px;\n",
              "    }\n",
              "\n",
              "    .colab-df-convert {\n",
              "      background-color: #E8F0FE;\n",
              "      border: none;\n",
              "      border-radius: 50%;\n",
              "      cursor: pointer;\n",
              "      display: none;\n",
              "      fill: #1967D2;\n",
              "      height: 32px;\n",
              "      padding: 0 0 0 0;\n",
              "      width: 32px;\n",
              "    }\n",
              "\n",
              "    .colab-df-convert:hover {\n",
              "      background-color: #E2EBFA;\n",
              "      box-shadow: 0px 1px 2px rgba(60, 64, 67, 0.3), 0px 1px 3px 1px rgba(60, 64, 67, 0.15);\n",
              "      fill: #174EA6;\n",
              "    }\n",
              "\n",
              "    [theme=dark] .colab-df-convert {\n",
              "      background-color: #3B4455;\n",
              "      fill: #D2E3FC;\n",
              "    }\n",
              "\n",
              "    [theme=dark] .colab-df-convert:hover {\n",
              "      background-color: #434B5C;\n",
              "      box-shadow: 0px 1px 3px 1px rgba(0, 0, 0, 0.15);\n",
              "      filter: drop-shadow(0px 1px 2px rgba(0, 0, 0, 0.3));\n",
              "      fill: #FFFFFF;\n",
              "    }\n",
              "  </style>\n",
              "\n",
              "      <script>\n",
              "        const buttonEl =\n",
              "          document.querySelector('#df-439c9abc-24e0-4a74-9652-d7e5284ff332 button.colab-df-convert');\n",
              "        buttonEl.style.display =\n",
              "          google.colab.kernel.accessAllowed ? 'block' : 'none';\n",
              "\n",
              "        async function convertToInteractive(key) {\n",
              "          const element = document.querySelector('#df-439c9abc-24e0-4a74-9652-d7e5284ff332');\n",
              "          const dataTable =\n",
              "            await google.colab.kernel.invokeFunction('convertToInteractive',\n",
              "                                                     [key], {});\n",
              "          if (!dataTable) return;\n",
              "\n",
              "          const docLinkHtml = 'Like what you see? Visit the ' +\n",
              "            '<a target=\"_blank\" href=https://colab.research.google.com/notebooks/data_table.ipynb>data table notebook</a>'\n",
              "            + ' to learn more about interactive tables.';\n",
              "          element.innerHTML = '';\n",
              "          dataTable['output_type'] = 'display_data';\n",
              "          await google.colab.output.renderOutput(dataTable, element);\n",
              "          const docLink = document.createElement('div');\n",
              "          docLink.innerHTML = docLinkHtml;\n",
              "          element.appendChild(docLink);\n",
              "        }\n",
              "      </script>\n",
              "    </div>\n",
              "  </div>\n",
              "  "
            ]
          },
          "metadata": {},
          "execution_count": 12
        }
      ]
    },
    {
      "cell_type": "code",
      "source": [
        "# df.to_csv(\"sample.csv\")"
      ],
      "metadata": {
        "id": "ZV4SdBSuwmeJ"
      },
      "execution_count": null,
      "outputs": []
    }
  ]
}