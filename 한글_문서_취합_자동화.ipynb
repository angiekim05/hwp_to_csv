{
  "nbformat": 4,
  "nbformat_minor": 0,
  "metadata": {
    "colab": {
      "provenance": [],
      "authorship_tag": "ABX9TyN+vv8b/GTkVkqNubsF9NU+",
      "include_colab_link": true
    },
    "kernelspec": {
      "name": "python3",
      "display_name": "Python 3"
    },
    "language_info": {
      "name": "python"
    }
  },
  "cells": [
    {
      "cell_type": "markdown",
      "metadata": {
        "id": "view-in-github",
        "colab_type": "text"
      },
      "source": [
        "<a href=\"https://colab.research.google.com/github/angiekim05/hwp_to_csv/blob/main/%ED%95%9C%EA%B8%80_%EB%AC%B8%EC%84%9C_%EC%B7%A8%ED%95%A9_%EC%9E%90%EB%8F%99%ED%99%94.ipynb\" target=\"_parent\"><img src=\"https://colab.research.google.com/assets/colab-badge.svg\" alt=\"Open In Colab\"/></a>"
      ]
    },
    {
      "cell_type": "code",
      "source": [
        "!pip install olefile\n",
        "import olefile"
      ],
      "metadata": {
        "colab": {
          "base_uri": "https://localhost:8080/"
        },
        "id": "JYccpTI-HbSW",
        "outputId": "43897691-f797-4e9c-cbfa-55af6ec2b2cd"
      },
      "execution_count": 113,
      "outputs": [
        {
          "output_type": "stream",
          "name": "stdout",
          "text": [
            "Looking in indexes: https://pypi.org/simple, https://us-python.pkg.dev/colab-wheels/public/simple/\n",
            "Requirement already satisfied: olefile in /usr/local/lib/python3.10/dist-packages (0.46)\n"
          ]
        }
      ]
    },
    {
      "cell_type": "code",
      "source": [
        "class Application():\n",
        "  def __init__(self,path):\n",
        "    self.text = self.get_text(path)\n",
        "    self.datas = self.get_datas()\n",
        "    \n",
        "  def print_datas(self):\n",
        "    print(*self.text[:-1],sep=\"\\n\")\n",
        "\n",
        "  def get_text(self,path):\n",
        "    # 파일 불러오기기\n",
        "    f = olefile.OleFileIO(path)\n",
        "    encoded_txt = f.openstream(\"PrvText\").read()\n",
        "    text = encoded_txt.decode(\"utf-16\",errors=\"ignore\")\n",
        "\n",
        "    # text 정제\n",
        "    text = text.replace(\" \",\"\").replace(\"><\",\"\\t\").replace(\">\",\"\")\n",
        "    text = text.split(\"\\r\\n\")\n",
        "    text = [t.replace(\"<\",\"\").split(\"\\t\") for t in text if len(t) > 0 and t[0] == \"<\"]\n",
        "    text[7]=text[7][1][-4:]\n",
        "    text[8]=text[8][1][-4:]\n",
        "    return text\n",
        "\n",
        "  def get_datas(self):\n",
        "    datas = []\n",
        "    datas.append(self.text[0][1])\n",
        "    datas.append(self.text[1][1])\n",
        "    datas.append(self.text[1][3])\n",
        "    datas.append(self.text[2][2])  \n",
        "    datas.append(self.text[2][4])\n",
        "    datas += [\"\"]+[False]*3+[\"\"]*2\n",
        "\n",
        "    for param in self.text[3]:\n",
        "      if param[0] != \"□\":\n",
        "        # 참가형태는 3가지 중 1개        \n",
        "        if \"학술대회+Workshop\" in param:\n",
        "          datas[5]=\"학술대회+Workshop\"\n",
        "        elif \"학술대회\" in param:\n",
        "          datas[5]=\"학술대회\"\n",
        "        elif \"Workshop\" in param:\n",
        "          datas[5]=\"Workshop\"\n",
        "        \n",
        "        # 식사는 중복 가능능\n",
        "        elif \"만찬\" in param:\n",
        "          datas[6]=True\n",
        "        elif \"조식\" in param:\n",
        "          datas[7]=True\n",
        "        elif \"중식\" in param:\n",
        "          datas[8]=True\n",
        "\n",
        "    for i,name in zip([1,2],[\"일반참가자\",\"학생참가자\"]):\n",
        "      if self.text[4][i][0] != \"□\":\n",
        "        datas[9]=name\n",
        "        break\n",
        "        \n",
        "    for i,name in zip([1,2,3,4],[\"평생회원\",\"정회원\",\"준회원\",\"비회원\"]):\n",
        "      if self.text[5][i][0] != \"□\":\n",
        "        datas[10]=name\n",
        "        break\n",
        "        \n",
        "    datas.append(self.text[6][2])\n",
        "\n",
        "    money = self.text[6][4]\n",
        "    if \"만\" in money:\n",
        "      money = money[:-2]\n",
        "    else:\n",
        "      money = int(money[:-1].replace(\",\",\"\"))//10000\n",
        "    datas.append(str(money)+\"만원\")\n",
        "\n",
        "    if self.text[7][0] != \"□\":\n",
        "      datas.append(\"동의\")\n",
        "    else:\n",
        "      datas.append(\"동의안함\")\n",
        "    if self.text[7][0] != \"□\":\n",
        "      datas.append(\"서약함\")\n",
        "    else:\n",
        "      datas.append(\"서약안함\")\n",
        "    return datas"
      ],
      "metadata": {
        "id": "-8TkSP85cYWo"
      },
      "execution_count": 209,
      "outputs": []
    },
    {
      "cell_type": "code",
      "source": [
        "# 파일 리스트트\n",
        "import os\n",
        "file_list = [name for name in os.listdir('.') if name[-3:]==\"hwp\"]\n",
        "file_list\n",
        "\n",
        "# 데이터 모음음\n",
        "datas = []\n",
        "for path in file_list:\n",
        "  data = Application(path)\n",
        "  data.print_datas()\n",
        "  datas.append(data.datas)"
      ],
      "metadata": {
        "colab": {
          "base_uri": "https://localhost:8080/"
        },
        "id": "ergBW5DivswQ",
        "outputId": "87a4288c-008f-46eb-f894-9e7b4adb71a8"
      },
      "execution_count": 212,
      "outputs": [
        {
          "output_type": "stream",
          "name": "stdout",
          "text": [
            "['성명', '홍길동']\n",
            "['소속(학생:학교)', 'ㅇㅇ대학교', '직위(학생:학위과정)', '석사과정']\n",
            "['연락처', '(휴대폰)', '010-0000-0000', '(이메일)', 'sample@gmail.com']\n",
            "['참가형태', '□학술대회', '식사여부(필수)', '0월0일', '□만찬', '□Workshop', '0월0일', '□조식', '□학술대회+Workshop', '□중식']\n",
            "['참가구분', '□일반참가자', '□학생참가자']\n",
            "['회원여부', '□평생회원', '□정회원', '□준회원', '□비회원']\n",
            "['입금정보', '입금자', '홍길동', '입금액', '0만원']\n",
            "□동의함\n",
            "□서약함\n"
          ]
        }
      ]
    },
    {
      "cell_type": "code",
      "source": [
        "import pandas as pd\n",
        "cols = ['성명', '소속', '직위', '휴대폰', '이메일', '참가형태', '만찬', '조식', '중식', '참가구분', '회원여부', '입금자', '입금액',\"동의\",\"서약약\"]\n",
        "df = pd.DataFrame(datas, columns=cols).set_index(cols[0])\n",
        "df"
      ],
      "metadata": {
        "colab": {
          "base_uri": "https://localhost:8080/",
          "height": 156
        },
        "id": "iA2n7dc0whkj",
        "outputId": "63c3e93e-06d4-4c0d-f64a-7037bcc01410"
      },
      "execution_count": 215,
      "outputs": [
        {
          "output_type": "execute_result",
          "data": {
            "text/plain": [
              "        소속    직위            휴대폰               이메일 참가형태     만찬     조식     중식  \\\n",
              "성명                                                                            \n",
              "홍길동  ㅇㅇ대학교  석사과정  010-0000-0000  sample@gmail.com       False  False  False   \n",
              "\n",
              "    참가구분 회원여부  입금자  입금액    동의   서약약  \n",
              "성명                                   \n",
              "홍길동            홍길동  0만원  동의안함  서약안함  "
            ],
            "text/html": [
              "\n",
              "  <div id=\"df-54bf7e8a-0494-41b3-a409-66c736477436\">\n",
              "    <div class=\"colab-df-container\">\n",
              "      <div>\n",
              "<style scoped>\n",
              "    .dataframe tbody tr th:only-of-type {\n",
              "        vertical-align: middle;\n",
              "    }\n",
              "\n",
              "    .dataframe tbody tr th {\n",
              "        vertical-align: top;\n",
              "    }\n",
              "\n",
              "    .dataframe thead th {\n",
              "        text-align: right;\n",
              "    }\n",
              "</style>\n",
              "<table border=\"1\" class=\"dataframe\">\n",
              "  <thead>\n",
              "    <tr style=\"text-align: right;\">\n",
              "      <th></th>\n",
              "      <th>소속</th>\n",
              "      <th>직위</th>\n",
              "      <th>휴대폰</th>\n",
              "      <th>이메일</th>\n",
              "      <th>참가형태</th>\n",
              "      <th>만찬</th>\n",
              "      <th>조식</th>\n",
              "      <th>중식</th>\n",
              "      <th>참가구분</th>\n",
              "      <th>회원여부</th>\n",
              "      <th>입금자</th>\n",
              "      <th>입금액</th>\n",
              "      <th>동의</th>\n",
              "      <th>서약약</th>\n",
              "    </tr>\n",
              "    <tr>\n",
              "      <th>성명</th>\n",
              "      <th></th>\n",
              "      <th></th>\n",
              "      <th></th>\n",
              "      <th></th>\n",
              "      <th></th>\n",
              "      <th></th>\n",
              "      <th></th>\n",
              "      <th></th>\n",
              "      <th></th>\n",
              "      <th></th>\n",
              "      <th></th>\n",
              "      <th></th>\n",
              "      <th></th>\n",
              "      <th></th>\n",
              "    </tr>\n",
              "  </thead>\n",
              "  <tbody>\n",
              "    <tr>\n",
              "      <th>홍길동</th>\n",
              "      <td>ㅇㅇ대학교</td>\n",
              "      <td>석사과정</td>\n",
              "      <td>010-0000-0000</td>\n",
              "      <td>sample@gmail.com</td>\n",
              "      <td></td>\n",
              "      <td>False</td>\n",
              "      <td>False</td>\n",
              "      <td>False</td>\n",
              "      <td></td>\n",
              "      <td></td>\n",
              "      <td>홍길동</td>\n",
              "      <td>0만원</td>\n",
              "      <td>동의안함</td>\n",
              "      <td>서약안함</td>\n",
              "    </tr>\n",
              "  </tbody>\n",
              "</table>\n",
              "</div>\n",
              "      <button class=\"colab-df-convert\" onclick=\"convertToInteractive('df-54bf7e8a-0494-41b3-a409-66c736477436')\"\n",
              "              title=\"Convert this dataframe to an interactive table.\"\n",
              "              style=\"display:none;\">\n",
              "        \n",
              "  <svg xmlns=\"http://www.w3.org/2000/svg\" height=\"24px\"viewBox=\"0 0 24 24\"\n",
              "       width=\"24px\">\n",
              "    <path d=\"M0 0h24v24H0V0z\" fill=\"none\"/>\n",
              "    <path d=\"M18.56 5.44l.94 2.06.94-2.06 2.06-.94-2.06-.94-.94-2.06-.94 2.06-2.06.94zm-11 1L8.5 8.5l.94-2.06 2.06-.94-2.06-.94L8.5 2.5l-.94 2.06-2.06.94zm10 10l.94 2.06.94-2.06 2.06-.94-2.06-.94-.94-2.06-.94 2.06-2.06.94z\"/><path d=\"M17.41 7.96l-1.37-1.37c-.4-.4-.92-.59-1.43-.59-.52 0-1.04.2-1.43.59L10.3 9.45l-7.72 7.72c-.78.78-.78 2.05 0 2.83L4 21.41c.39.39.9.59 1.41.59.51 0 1.02-.2 1.41-.59l7.78-7.78 2.81-2.81c.8-.78.8-2.07 0-2.86zM5.41 20L4 18.59l7.72-7.72 1.47 1.35L5.41 20z\"/>\n",
              "  </svg>\n",
              "      </button>\n",
              "      \n",
              "  <style>\n",
              "    .colab-df-container {\n",
              "      display:flex;\n",
              "      flex-wrap:wrap;\n",
              "      gap: 12px;\n",
              "    }\n",
              "\n",
              "    .colab-df-convert {\n",
              "      background-color: #E8F0FE;\n",
              "      border: none;\n",
              "      border-radius: 50%;\n",
              "      cursor: pointer;\n",
              "      display: none;\n",
              "      fill: #1967D2;\n",
              "      height: 32px;\n",
              "      padding: 0 0 0 0;\n",
              "      width: 32px;\n",
              "    }\n",
              "\n",
              "    .colab-df-convert:hover {\n",
              "      background-color: #E2EBFA;\n",
              "      box-shadow: 0px 1px 2px rgba(60, 64, 67, 0.3), 0px 1px 3px 1px rgba(60, 64, 67, 0.15);\n",
              "      fill: #174EA6;\n",
              "    }\n",
              "\n",
              "    [theme=dark] .colab-df-convert {\n",
              "      background-color: #3B4455;\n",
              "      fill: #D2E3FC;\n",
              "    }\n",
              "\n",
              "    [theme=dark] .colab-df-convert:hover {\n",
              "      background-color: #434B5C;\n",
              "      box-shadow: 0px 1px 3px 1px rgba(0, 0, 0, 0.15);\n",
              "      filter: drop-shadow(0px 1px 2px rgba(0, 0, 0, 0.3));\n",
              "      fill: #FFFFFF;\n",
              "    }\n",
              "  </style>\n",
              "\n",
              "      <script>\n",
              "        const buttonEl =\n",
              "          document.querySelector('#df-54bf7e8a-0494-41b3-a409-66c736477436 button.colab-df-convert');\n",
              "        buttonEl.style.display =\n",
              "          google.colab.kernel.accessAllowed ? 'block' : 'none';\n",
              "\n",
              "        async function convertToInteractive(key) {\n",
              "          const element = document.querySelector('#df-54bf7e8a-0494-41b3-a409-66c736477436');\n",
              "          const dataTable =\n",
              "            await google.colab.kernel.invokeFunction('convertToInteractive',\n",
              "                                                     [key], {});\n",
              "          if (!dataTable) return;\n",
              "\n",
              "          const docLinkHtml = 'Like what you see? Visit the ' +\n",
              "            '<a target=\"_blank\" href=https://colab.research.google.com/notebooks/data_table.ipynb>data table notebook</a>'\n",
              "            + ' to learn more about interactive tables.';\n",
              "          element.innerHTML = '';\n",
              "          dataTable['output_type'] = 'display_data';\n",
              "          await google.colab.output.renderOutput(dataTable, element);\n",
              "          const docLink = document.createElement('div');\n",
              "          docLink.innerHTML = docLinkHtml;\n",
              "          element.appendChild(docLink);\n",
              "        }\n",
              "      </script>\n",
              "    </div>\n",
              "  </div>\n",
              "  "
            ]
          },
          "metadata": {},
          "execution_count": 215
        }
      ]
    },
    {
      "cell_type": "code",
      "source": [
        "df.to_csv(\"sample.csv\")"
      ],
      "metadata": {
        "id": "ZV4SdBSuwmeJ"
      },
      "execution_count": 216,
      "outputs": []
    },
    {
      "cell_type": "code",
      "source": [],
      "metadata": {
        "id": "pZhS-UiY1H9W"
      },
      "execution_count": null,
      "outputs": []
    }
  ]
}